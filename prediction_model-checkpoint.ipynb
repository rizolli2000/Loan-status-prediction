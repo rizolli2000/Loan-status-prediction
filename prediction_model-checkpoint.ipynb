{
 "cells": [
  {
   "cell_type": "code",
   "execution_count": 1,
   "metadata": {
    "_cell_guid": "79c7e3d0-c299-4dcb-8224-4455121ee9b0",
    "_uuid": "d629ff2d2480ee46fbb7e2d37f6b5fab8052498a"
   },
   "outputs": [],
   "source": [
    "#Import Libraries\n",
    "import os\n",
    "import numpy as np\n",
    "import pandas as pd\n",
    "import matplotlib.pyplot as plt\n",
    "%matplotlib inline\n",
    "import seaborn as sns\n",
    "sns.set()\n",
    "from sklearn.model_selection import train_test_split\n",
    "from sklearn.preprocessing import StandardScaler\n",
    "from numpy import loadtxt\n",
    "from sklearn.linear_model import LogisticRegression\n",
    "from sklearn.metrics import accuracy_score\n",
    "from sklearn.metrics import f1_score\n",
    "\n",
    "import pickle\n"
   ]
  },
  {
   "cell_type": "code",
   "execution_count": 2,
   "metadata": {},
   "outputs": [],
   "source": [
    "data = pd.read_csv('Train_Loan_Home.csv') #import the train dataset\n"
   ]
  },
  {
   "cell_type": "code",
   "execution_count": 3,
   "metadata": {},
   "outputs": [
    {
     "data": {
      "text/html": [
       "<div>\n",
       "<style scoped>\n",
       "    .dataframe tbody tr th:only-of-type {\n",
       "        vertical-align: middle;\n",
       "    }\n",
       "\n",
       "    .dataframe tbody tr th {\n",
       "        vertical-align: top;\n",
       "    }\n",
       "\n",
       "    .dataframe thead th {\n",
       "        text-align: right;\n",
       "    }\n",
       "</style>\n",
       "<table border=\"1\" class=\"dataframe\">\n",
       "  <thead>\n",
       "    <tr style=\"text-align: right;\">\n",
       "      <th></th>\n",
       "      <th>Loan_ID</th>\n",
       "      <th>Gender</th>\n",
       "      <th>Married</th>\n",
       "      <th>Dependents</th>\n",
       "      <th>Education</th>\n",
       "      <th>Self_Employed</th>\n",
       "      <th>ApplicantIncome</th>\n",
       "      <th>CoapplicantIncome</th>\n",
       "      <th>LoanAmount</th>\n",
       "      <th>Loan_Amount_Term</th>\n",
       "      <th>Credit_History</th>\n",
       "      <th>Property_Area</th>\n",
       "      <th>Loan_Status</th>\n",
       "    </tr>\n",
       "  </thead>\n",
       "  <tbody>\n",
       "    <tr>\n",
       "      <th>0</th>\n",
       "      <td>LP001002</td>\n",
       "      <td>Male</td>\n",
       "      <td>No</td>\n",
       "      <td>0</td>\n",
       "      <td>Graduate</td>\n",
       "      <td>No</td>\n",
       "      <td>5849</td>\n",
       "      <td>0.0</td>\n",
       "      <td>NaN</td>\n",
       "      <td>360.0</td>\n",
       "      <td>1.0</td>\n",
       "      <td>Urban</td>\n",
       "      <td>Y</td>\n",
       "    </tr>\n",
       "    <tr>\n",
       "      <th>1</th>\n",
       "      <td>LP001003</td>\n",
       "      <td>Male</td>\n",
       "      <td>Yes</td>\n",
       "      <td>1</td>\n",
       "      <td>Graduate</td>\n",
       "      <td>No</td>\n",
       "      <td>4583</td>\n",
       "      <td>1508.0</td>\n",
       "      <td>128.0</td>\n",
       "      <td>360.0</td>\n",
       "      <td>1.0</td>\n",
       "      <td>Rural</td>\n",
       "      <td>N</td>\n",
       "    </tr>\n",
       "    <tr>\n",
       "      <th>2</th>\n",
       "      <td>LP001005</td>\n",
       "      <td>Male</td>\n",
       "      <td>Yes</td>\n",
       "      <td>0</td>\n",
       "      <td>Graduate</td>\n",
       "      <td>Yes</td>\n",
       "      <td>3000</td>\n",
       "      <td>0.0</td>\n",
       "      <td>66.0</td>\n",
       "      <td>360.0</td>\n",
       "      <td>1.0</td>\n",
       "      <td>Urban</td>\n",
       "      <td>Y</td>\n",
       "    </tr>\n",
       "    <tr>\n",
       "      <th>3</th>\n",
       "      <td>LP001006</td>\n",
       "      <td>Male</td>\n",
       "      <td>Yes</td>\n",
       "      <td>0</td>\n",
       "      <td>Not Graduate</td>\n",
       "      <td>No</td>\n",
       "      <td>2583</td>\n",
       "      <td>2358.0</td>\n",
       "      <td>120.0</td>\n",
       "      <td>360.0</td>\n",
       "      <td>1.0</td>\n",
       "      <td>Urban</td>\n",
       "      <td>Y</td>\n",
       "    </tr>\n",
       "    <tr>\n",
       "      <th>4</th>\n",
       "      <td>LP001008</td>\n",
       "      <td>Male</td>\n",
       "      <td>No</td>\n",
       "      <td>0</td>\n",
       "      <td>Graduate</td>\n",
       "      <td>No</td>\n",
       "      <td>6000</td>\n",
       "      <td>0.0</td>\n",
       "      <td>141.0</td>\n",
       "      <td>360.0</td>\n",
       "      <td>1.0</td>\n",
       "      <td>Urban</td>\n",
       "      <td>Y</td>\n",
       "    </tr>\n",
       "  </tbody>\n",
       "</table>\n",
       "</div>"
      ],
      "text/plain": [
       "    Loan_ID Gender Married Dependents     Education Self_Employed  \\\n",
       "0  LP001002   Male      No          0      Graduate            No   \n",
       "1  LP001003   Male     Yes          1      Graduate            No   \n",
       "2  LP001005   Male     Yes          0      Graduate           Yes   \n",
       "3  LP001006   Male     Yes          0  Not Graduate            No   \n",
       "4  LP001008   Male      No          0      Graduate            No   \n",
       "\n",
       "   ApplicantIncome  CoapplicantIncome  LoanAmount  Loan_Amount_Term  \\\n",
       "0             5849                0.0         NaN             360.0   \n",
       "1             4583             1508.0       128.0             360.0   \n",
       "2             3000                0.0        66.0             360.0   \n",
       "3             2583             2358.0       120.0             360.0   \n",
       "4             6000                0.0       141.0             360.0   \n",
       "\n",
       "   Credit_History Property_Area Loan_Status  \n",
       "0             1.0         Urban           Y  \n",
       "1             1.0         Rural           N  \n",
       "2             1.0         Urban           Y  \n",
       "3             1.0         Urban           Y  \n",
       "4             1.0         Urban           Y  "
      ]
     },
     "execution_count": 3,
     "metadata": {},
     "output_type": "execute_result"
    }
   ],
   "source": [
    "data.head()"
   ]
  },
  {
   "cell_type": "markdown",
   "metadata": {},
   "source": [
    "DATA EXPLORATION / PREPROCESSING Data-Preprocessing steps:\n",
    "\n",
    "Handling missing values Creation of Dummy variables Replacing the data-values"
   ]
  },
  {
   "cell_type": "code",
   "execution_count": 4,
   "metadata": {},
   "outputs": [
    {
     "name": "stdout",
     "output_type": "stream",
     "text": [
      "<class 'pandas.core.frame.DataFrame'>\n",
      "RangeIndex: 614 entries, 0 to 613\n",
      "Data columns (total 13 columns):\n",
      "Loan_ID              614 non-null object\n",
      "Gender               601 non-null object\n",
      "Married              611 non-null object\n",
      "Dependents           599 non-null object\n",
      "Education            614 non-null object\n",
      "Self_Employed        582 non-null object\n",
      "ApplicantIncome      614 non-null int64\n",
      "CoapplicantIncome    614 non-null float64\n",
      "LoanAmount           592 non-null float64\n",
      "Loan_Amount_Term     600 non-null float64\n",
      "Credit_History       564 non-null float64\n",
      "Property_Area        614 non-null object\n",
      "Loan_Status          614 non-null object\n",
      "dtypes: float64(4), int64(1), object(8)\n",
      "memory usage: 43.2+ KB\n"
     ]
    }
   ],
   "source": [
    "data.info() #There are 3 different datatypes in the dataset which include float64(4), int64(1), object(8)"
   ]
  },
  {
   "cell_type": "code",
   "execution_count": 5,
   "metadata": {},
   "outputs": [
    {
     "data": {
      "text/plain": [
       "Loan_ID               0\n",
       "Gender               13\n",
       "Married               3\n",
       "Dependents           15\n",
       "Education             0\n",
       "Self_Employed        32\n",
       "ApplicantIncome       0\n",
       "CoapplicantIncome     0\n",
       "LoanAmount           22\n",
       "Loan_Amount_Term     14\n",
       "Credit_History       50\n",
       "Property_Area         0\n",
       "Loan_Status           0\n",
       "dtype: int64"
      ]
     },
     "execution_count": 5,
     "metadata": {},
     "output_type": "execute_result"
    }
   ],
   "source": [
    "data.isnull().sum()  #print out sum of null values in each column"
   ]
  },
  {
   "cell_type": "code",
   "execution_count": 6,
   "metadata": {},
   "outputs": [
    {
     "data": {
      "text/plain": [
       "<matplotlib.axes._subplots.AxesSubplot at 0x8be4170>"
      ]
     },
     "execution_count": 6,
     "metadata": {},
     "output_type": "execute_result"
    },
    {
     "data": {
      "image/png": "[encoded data removed]",
      "text/plain": [
       "<matplotlib.figure.Figure at 0x8b50890>"
      ]
     },
     "metadata": {},
     "output_type": "display_data"
    }
   ],
   "source": [
    "sns.heatmap(data.isnull(),yticklabels=False,cbar=False,cmap='viridis') #i used the seaborn heatmap to visualize null values in each column"
   ]
  },
  {
   "cell_type": "markdown",
   "metadata": {},
   "source": [
    "* * * * from the visualization above we have missing values in gender,dependents,self-employed,loanAmount,loan-amount-term,credit-history"
   ]
  },
  {
   "cell_type": "code",
   "execution_count": 7,
   "metadata": {},
   "outputs": [],
   "source": [
    " data = data.fillna(data.mean().iloc[0]) #i used the fillna function to fill the missing values"
   ]
  },
  {
   "cell_type": "code",
   "execution_count": 8,
   "metadata": {},
   "outputs": [
    {
     "data": {
      "image/png": "[encoded data removed]",
      "text/plain": [
       "<matplotlib.figure.Figure at 0x9067930>"
      ]
     },
     "metadata": {},
     "output_type": "display_data"
    }
   ],
   "source": [
    "#Relationship between Gender and Loan Status:\n",
    "\n",
    "Gender = ['Male', 'Female']\n",
    "Loan_Status = ['Yes', 'No']\n",
    "pos= np.arange(len(Gender))\n",
    "bar_width= 0.30\n",
    "Loan_Status_Yes= [347,75]\n",
    "Loan_Status_NO= [155,37]\n",
    "\n",
    "plt.bar(pos,Loan_Status_Yes,bar_width,color='green',edgecolor='black')\n",
    "plt.bar(pos+bar_width,Loan_Status_NO,bar_width,color='orange',edgecolor='black')\n",
    "plt.xticks(pos, Gender)\n",
    "plt.xlabel('Gender', fontsize=16)\n",
    "plt.ylabel('Count', fontsize=16)\n",
    "plt.title('Gender vs Loan status',fontsize=18)\n",
    "plt.legend(Loan_Status,loc=1)\n",
    "plt.show()"
   ]
  },
  {
   "cell_type": "markdown",
   "metadata": {},
   "source": [
    "From the chart above, we can conclude that male applicants have higher percentage of loan approval than female applicants and we move more male than female applying for loan"
   ]
  },
  {
   "cell_type": "code",
   "execution_count": 9,
   "metadata": {},
   "outputs": [
    {
     "data": {
      "image/png": "[encoded data removed]",
      "text/plain": [
       "<matplotlib.figure.Figure at 0x90f16f0>"
      ]
     },
     "metadata": {},
     "output_type": "display_data"
    }
   ],
   "source": [
    "#Relationship between marital status vs loan status\n",
    "\n",
    "MaritalStatus=['Yes', 'No']\n",
    "Loan_Status=['Yes', 'No']\n",
    "pos=np.arange(len(MaritalStatus))\n",
    "bar_width=0.30\n",
    "Loan_Status_Yes=[288,134]\n",
    "Loan_Status_NO=[113,79]\n",
    "\n",
    "plt.bar(pos,Loan_Status_Yes,bar_width,color='green',edgecolor='black')\n",
    "plt.bar(pos+bar_width,Loan_Status_NO,bar_width,color='orange',edgecolor='black')\n",
    "plt.xticks(pos, MaritalStatus)\n",
    "plt.xlabel('Marital Status', fontsize=16)\n",
    "plt.ylabel('Count', fontsize=16)\n",
    "plt.title('Marital Status vs Loan status',fontsize=18)\n",
    "plt.legend(Loan_Status,loc=1)\n",
    "plt.show()"
   ]
  },
  {
   "cell_type": "markdown",
   "metadata": {},
   "source": [
    "From the chart above, we can conclude that the we have more married thand single customer approved for loan"
   ]
  },
  {
   "cell_type": "code",
   "execution_count": 10,
   "metadata": {},
   "outputs": [
    {
     "data": {
      "image/png": "[encoded data removed]",
      "text/plain": [
       "<matplotlib.figure.Figure at 0x90f6c10>"
      ]
     },
     "metadata": {},
     "output_type": "display_data"
    }
   ],
   "source": [
    "#Relationship between Dependents vs Loan status\n",
    "\n",
    "\n",
    "Dependents=['Dpdnt_No', 'Dpdnt_1', 'Dpdnt_2', 'Dpdnt_3']\n",
    "Loan_Status=['Yes', 'No']\n",
    "pos=np.arange(len(Dependents))\n",
    "bar_width=0.30\n",
    "Loan_Status_Yes=[247,66,76,33]\n",
    "Loan_Status_NO=[113,36,25,18]\n",
    "\n",
    "plt.bar(pos,Loan_Status_Yes,bar_width,color='green',edgecolor='black')\n",
    "plt.bar(pos+bar_width,Loan_Status_NO,bar_width,color='orange',edgecolor='black')\n",
    "plt.xticks(pos, Dependents)\n",
    "plt.xlabel('Dependents', fontsize=16)\n",
    "plt.ylabel('Count', fontsize=16)\n",
    "plt.title('Dependents vs Loan status',fontsize=18)\n",
    "plt.legend(Loan_Status,loc=1)\n",
    "plt.show()"
   ]
  },
  {
   "cell_type": "markdown",
   "metadata": {},
   "source": [
    "From the chart, we can see that the number of dependents may automatically affect** the approvals of home loans. There is a higher chance of getting home loan approval for applicants who have less number of dependents or no dependents."
   ]
  },
  {
   "cell_type": "code",
   "execution_count": 11,
   "metadata": {},
   "outputs": [
    {
     "data": {
      "image/png": "[encoded data removed]",
      "text/plain": [
       "<matplotlib.figure.Figure at 0x913cd50>"
      ]
     },
     "metadata": {},
     "output_type": "display_data"
    }
   ],
   "source": [
    "#Relationship between education vs Loan status:\n",
    "\n",
    "\n",
    "Education=['Graduate', 'Non-Graduate']\n",
    "Loan_Status=['Yes', 'No']\n",
    "pos=np.arange(len(Education))\n",
    "bar_width=0.30\n",
    "Loan_Status_Yes=[340,82]\n",
    "Loan_Status_NO=[140,52]\n",
    "\n",
    "plt.bar(pos,Loan_Status_Yes,bar_width,color='green',edgecolor='black')\n",
    "plt.bar(pos+bar_width,Loan_Status_NO,bar_width,color='orange',edgecolor='black')\n",
    "plt.xticks(pos, Education)\n",
    "plt.xlabel('Education', fontsize=16)\n",
    "plt.ylabel('Count', fontsize=16)\n",
    "plt.title('Education vs Loan status',fontsize=18)\n",
    "plt.legend(Loan_Status,loc=1)\n",
    "plt.show()"
   ]
  },
  {
   "cell_type": "markdown",
   "metadata": {},
   "source": [
    "From the chart above, we can conclude** that the applicants who are graduate were in higher percentage of loan approval than non-graduate applicants."
   ]
  },
  {
   "cell_type": "code",
   "execution_count": 12,
   "metadata": {},
   "outputs": [
    {
     "data": {
      "image/png": "[encoded data removed]",
      "text/plain": [
       "<matplotlib.figure.Figure at 0x9593070>"
      ]
     },
     "metadata": {},
     "output_type": "display_data"
    }
   ],
   "source": [
    "#Relationship between Self-Employed vs Loan_Status:\n",
    "\n",
    "Self_Employed=['Yes', 'No']\n",
    "Loan_Status=['Yes', 'No']\n",
    "pos=np.arange(len(Self_Employed))\n",
    "bar_width=0.30\n",
    "Loan_Status_Yes=[56,366]\n",
    "Loan_Status_NO=[26,166]\n",
    "\n",
    "plt.bar(pos,Loan_Status_Yes,bar_width,color='green',edgecolor='black')\n",
    "plt.bar(pos+bar_width,Loan_Status_NO,bar_width,color='orange',edgecolor='black')\n",
    "plt.xticks(pos, Self_Employed)\n",
    "plt.xlabel('Self Employed', fontsize=16)\n",
    "plt.ylabel('Count', fontsize=16)\n",
    "plt.title('Self Employed vs Loan status',fontsize=18)\n",
    "plt.legend(Loan_Status,loc=1)\n",
    "plt.show()"
   ]
  },
  {
   "cell_type": "markdown",
   "metadata": {},
   "source": [
    "From the chart above, we can see that non self employed applicant were more approved for loan that the self employed applicant"
   ]
  },
  {
   "cell_type": "code",
   "execution_count": 13,
   "metadata": {},
   "outputs": [
    {
     "data": {
      "image/png": "[encoded data removed]",
      "text/plain": [
       "<matplotlib.figure.Figure at 0x9593670>"
      ]
     },
     "metadata": {},
     "output_type": "display_data"
    }
   ],
   "source": [
    "#Relationship between Property area and loan status\n",
    "\n",
    "Property_Area=['Rural','Semiurban','Urban']\n",
    "Loan_Status=['Yes', 'No']\n",
    "pos=np.arange(len(Property_Area))\n",
    "bar_width=0.35\n",
    "Loan_Status_Yes=[110,179,133]\n",
    "Loan_Status_NO=[69,54,69]\n",
    "\n",
    "plt.bar(pos,Loan_Status_Yes,bar_width,color='green',edgecolor='black')\n",
    "plt.bar(pos+bar_width,Loan_Status_NO,bar_width,color='orange',edgecolor='black')\n",
    "plt.xticks(pos, Property_Area)\n",
    "plt.xlabel('Property Area', fontsize=16)\n",
    "plt.ylabel('Count', fontsize=16)\n",
    "plt.title('Property Area vs Loan Status',fontsize=18)\n",
    "plt.legend(Loan_Status,loc=1)\n",
    "plt.show()\n"
   ]
  },
  {
   "cell_type": "markdown",
   "metadata": {},
   "source": [
    "From the chart above results we can infer that, the higher percentage of loan approval is for semi-urban houses followed by urban and rural houses."
   ]
  },
  {
   "cell_type": "code",
   "execution_count": 14,
   "metadata": {},
   "outputs": [
    {
     "data": {
      "image/png": "[encoded data removed]",
      "text/plain": [
       "<matplotlib.figure.Figure at 0x9593ed0>"
      ]
     },
     "metadata": {},
     "output_type": "display_data"
    }
   ],
   "source": [
    "#Relationship between Credit History and Loan Status: \n",
    "\n",
    "Credit_History=['Bad','Medium','Good']\n",
    "Loan_Status=['Yes', 'No']\n",
    "pos=np.arange(len(Credit_History))\n",
    "bar_width=0.35\n",
    "Loan_Status_Yes=[7,37,378]\n",
    "Loan_Status_NO=[82,13,97]\n",
    "\n",
    "plt.bar(pos,Loan_Status_Yes,bar_width,color='green',edgecolor='black')\n",
    "plt.bar(pos+bar_width,Loan_Status_NO,bar_width,color='orange',edgecolor='black')\n",
    "plt.xticks(pos, Credit_History)\n",
    "plt.xlabel('Credit History', fontsize=16)\n",
    "plt.ylabel('Count', fontsize=16)\n",
    "plt.title('Credit History vs Loan Status',fontsize=18)\n",
    "plt.legend(Loan_Status,loc=2)\n",
    "plt.show()"
   ]
  },
  {
   "cell_type": "markdown",
   "metadata": {},
   "source": [
    "From the chart above results we can infer that, the higher percentage of loan approval is for customers with good credit history followed bycustomers with medium credit history and then the bad\n",
    "\n",
    "\n",
    "\n",
    "\n",
    "\n",
    "\n"
   ]
  },
  {
   "cell_type": "code",
   "execution_count": 15,
   "metadata": {},
   "outputs": [
    {
     "data": {
      "image/png": "[encoded data removed]",
      "text/plain": [
       "<matplotlib.figure.Figure at 0x95d18d0>"
      ]
     },
     "metadata": {},
     "output_type": "display_data"
    }
   ],
   "source": [
    "plt.figure(figsize=(10,8))\n",
    "sns.heatmap(data.corr(), annot=True, cmap='coolwarm');"
   ]
  },
  {
   "cell_type": "code",
   "execution_count": 16,
   "metadata": {},
   "outputs": [
    {
     "name": "stdout",
     "output_type": "stream",
     "text": [
      "Features 'Loan_ID' has '614' unique categories\n",
      "Features 'Gender' has '3' unique categories\n",
      "Features 'Married' has '3' unique categories\n",
      "Features 'Dependents' has '5' unique categories\n",
      "Features 'Education' has '2' unique categories\n",
      "Features 'Self_Employed' has '3' unique categories\n",
      "Features 'Property_Area' has '3' unique categories\n",
      "Features 'Loan_Status' has '2' unique categories\n"
     ]
    }
   ],
   "source": [
    "# print out column with unique values\n",
    "for col in data.columns:\n",
    "    if data[col].dtypes == 'object':\n",
    "        num_of_unique_cat = len (data[col].unique())\n",
    "        print(\"Features '{col_name}' has '{unique_cat}' unique categories\". format(col_name=col, unique_cat=num_of_unique_cat))"
   ]
  },
  {
   "cell_type": "code",
   "execution_count": 17,
   "metadata": {},
   "outputs": [],
   "source": [
    "data = data.drop(['Loan_ID','Dependents',], axis = 1)\n"
   ]
  },
  {
   "cell_type": "code",
   "execution_count": 18,
   "metadata": {},
   "outputs": [],
   "source": [
    "data['Self_Employed'].replace({'Yes':1,'No':0},inplace=True)\n",
    "data['Married'].replace({'Yes':1,'No':0},inplace=True)\n",
    "data['Gender'].replace({'Male':1,'Female':0},inplace=True)\n",
    "data['Education'].replace({'Graduate':1,'Not Graduate':0},inplace=True)\n",
    "data['Property_Area'].replace({'Urban':2,'Semiurban':1,'Rural':0},inplace=True)\n",
    "data['Loan_Status'].replace({'Y':1,'N':0},inplace=True)"
   ]
  },
  {
   "cell_type": "code",
   "execution_count": null,
   "metadata": {},
   "outputs": [],
   "source": [
    "\n"
   ]
  },
  {
   "cell_type": "code",
   "execution_count": 19,
   "metadata": {},
   "outputs": [],
   "source": [
    "y = data['Loan_Status'] #target\n",
    "X = data.drop('Loan_Status', axis = 1) #prediators"
   ]
  },
  {
   "cell_type": "code",
   "execution_count": 20,
   "metadata": {},
   "outputs": [],
   "source": [
    "#Standardize the data - Feature Scaling\n",
    "\n",
    "from sklearn.preprocessing import StandardScaler\n",
    "sc_X = StandardScaler()\n",
    "X_scaled = pd.DataFrame(sc_X.fit_transform(X), columns=X.columns)"
   ]
  },
  {
   "cell_type": "code",
   "execution_count": 21,
   "metadata": {},
   "outputs": [],
   "source": [
    "X_train, X_test, y_train, y_test = train_test_split(X, y, test_size=0.20, random_state=0)"
   ]
  },
  {
   "cell_type": "code",
   "execution_count": 22,
   "metadata": {},
   "outputs": [
    {
     "data": {
      "text/plain": [
       "0.8365384615384616"
      ]
     },
     "execution_count": 22,
     "metadata": {},
     "output_type": "execute_result"
    }
   ],
   "source": [
    "model = LogisticRegression() #define the model\n",
    "model.fit(X_train, y_train) #fit the model\n",
    "ypred = model.predict(X_test) #predict on test sample\n",
    "evaluation = f1_score(y_test, ypred)\n",
    "evaluation"
   ]
  },
  {
   "cell_type": "code",
   "execution_count": 23,
   "metadata": {},
   "outputs": [],
   "source": [
    "pickle.dump(model,open('model.pkl','wb'))"
   ]
  },
  {
   "cell_type": "code",
   "execution_count": 24,
   "metadata": {},
   "outputs": [
    {
     "name": "stdout",
     "output_type": "stream",
     "text": [
      "LogisticRegression(C=1.0, class_weight=None, dual=False, fit_intercept=True,\n",
      "          intercept_scaling=1, max_iter=100, multi_class='ovr', n_jobs=1,\n",
      "          penalty='l2', random_state=None, solver='liblinear', tol=0.0001,\n",
      "          verbose=0, warm_start=False)\n"
     ]
    }
   ],
   "source": [
    "model = pickle.load(open('model.pkl','rb'))\n",
    "print(model)"
   ]
  },
  {
   "cell_type": "code",
   "execution_count": null,
   "metadata": {},
   "outputs": [],
   "source": []
  }
 ],
 "metadata": {
  "kernelspec": {
   "display_name": "Python 3 (ipykernel)",
   "language": "python",
   "name": "python3"
  },
  "language_info": {
   "codemirror_mode": {
    "name": "ipython",
    "version": 3
   },
   "file_extension": ".py",
   "mimetype": "text/x-python",
   "name": "python",
   "nbconvert_exporter": "python",
   "pygments_lexer": "ipython3",
   "version": "3.9.13"
  }
 },
 "nbformat": 4,
 "nbformat_minor": 4
}
